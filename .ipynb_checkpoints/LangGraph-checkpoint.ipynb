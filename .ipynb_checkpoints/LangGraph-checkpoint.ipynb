{
 "cells": [
  {
   "cell_type": "markdown",
   "id": "745291ef-59ff-493a-b025-5218010e1792",
   "metadata": {},
   "source": [
    "# **LangGraph**"
   ]
  },
  {
   "cell_type": "markdown",
   "id": "c8103b16-226e-45b7-bddc-eef77bfcc419",
   "metadata": {},
   "source": [
    "## LangGraph basic structure\n",
    "The Basic Graph to create : \n",
    "\n",
    "Start -> Node -> End"
   ]
  },
  {
   "cell_type": "markdown",
   "id": "55e396a4-336e-4ec8-97e5-5e826fddce51",
   "metadata": {},
   "source": [
    "## Graph 1"
   ]
  },
  {
   "cell_type": "code",
   "execution_count": 1,
   "id": "367f6568-3973-41d8-aafd-07626ba78343",
   "metadata": {},
   "outputs": [],
   "source": [
    "from typing import Dict, TypedDict\n",
    "from langgraph.graph import StateGraph"
   ]
  },
  {
   "cell_type": "code",
   "execution_count": 2,
   "id": "a3f3c0b6-99fc-4221-8d4a-125082e2358e",
   "metadata": {},
   "outputs": [],
   "source": [
    "class AgentState(TypedDict): # Our state schema\n",
    "    message : str\n",
    "\n",
    "def greeting_node(state: AgentState) -> AgentState: # AgentState is actually a dictionary format and the \"state\" is the parameter in type AgentState. SO the argument must be in dictionary format\n",
    "    \"\"\"Simple node that adds greeting message to the state\"\"\"\n",
    "\n",
    "    state['message'] = \"hey \" + state['message'] + \", How is your day going ? \"\n",
    "    return state "
   ]
  },
  {
   "cell_type": "code",
   "execution_count": 3,
   "id": "77378c19-e746-4c67-ab3d-ceaa6d40b434",
   "metadata": {},
   "outputs": [],
   "source": [
    "graph = StateGraph(AgentState)\n",
    "graph.add_node(\"greeter\", greeting_node)\n",
    "\n",
    "graph.set_entry_point(\"greeter\")\n",
    "graph.set_finish_point(\"greeter\")\n",
    "\n",
    "app = graph.compile()\n"
   ]
  },
  {
   "cell_type": "code",
   "execution_count": 4,
   "id": "ff980e15-6250-4cf8-b3a0-fa850757b382",
   "metadata": {},
   "outputs": [
    {
     "data": {
      "image/png": "[encoded data removed]",
      "text/plain": [
       "<IPython.core.display.Image object>"
      ]
     },
     "metadata": {},
     "output_type": "display_data"
    }
   ],
   "source": [
    "from IPython.display import Image, display\n",
    "display(Image(app.get_graph().draw_mermaid_png()))"
   ]
  },
  {
   "cell_type": "code",
   "execution_count": 5,
   "id": "26eca78c-81a3-428f-8f49-d768fa5c293b",
   "metadata": {},
   "outputs": [],
   "source": [
    "result = app.invoke({\"message\" : \"Rivindu\"}) # how to run the graph "
   ]
  },
  {
   "cell_type": "code",
   "execution_count": 6,
   "id": "37ea805a-5162-405f-a5b1-3b1be658d3aa",
   "metadata": {},
   "outputs": [
    {
     "data": {
      "text/plain": [
       "'hey Rivindu, How is your day going ? '"
      ]
     },
     "execution_count": 6,
     "metadata": {},
     "output_type": "execute_result"
    }
   ],
   "source": [
    "result['message']"
   ]
  },
  {
   "cell_type": "code",
   "execution_count": 7,
   "id": "969d5b68-6f69-4268-b3d5-e75112dc612c",
   "metadata": {},
   "outputs": [
    {
     "data": {
      "image/png": "[encoded data removed]",
      "text/plain": [
       "<IPython.core.display.Image object>"
      ]
     },
     "metadata": {},
     "output_type": "display_data"
    }
   ],
   "source": [
    "class Agent2State(TypedDict):\n",
    "    name : str\n",
    "\n",
    "def give_complement(state: Agent2State) -> Agent2State:\n",
    "    \"\"\"personalized compliment \"\"\"\n",
    "    state['name'] = \"Hey \" + state['name'] + \", you are doing a great job\"\n",
    "    return state\n",
    "\n",
    "graph2 = StateGraph(Agent2State)\n",
    "graph2.add_node(\"compliment\", give_complement)\n",
    "\n",
    "graph2.set_entry_point(\"compliment\")\n",
    "graph2.set_finish_point(\"compliment\")\n",
    "\n",
    "app2 = graph2.compile()\n",
    "display(Image(app2.get_graph().draw_mermaid_png()))\n"
   ]
  },
  {
   "cell_type": "code",
   "execution_count": 8,
   "id": "9899b605-e890-49c2-8afd-b4e06a586436",
   "metadata": {},
   "outputs": [
    {
     "name": "stdout",
     "output_type": "stream",
     "text": [
      "Hey sample_name, you are doing a great job\n"
     ]
    }
   ],
   "source": [
    "result = app2.invoke({\"name\" : \"sample_name\"})\n",
    "print(result['name'])"
   ]
  },
  {
   "cell_type": "markdown",
   "id": "eeb5504e-70ec-4768-9189-5b50716dfba5",
   "metadata": {},
   "source": [
    "## Graph 2"
   ]
  },
  {
   "cell_type": "markdown",
   "id": "57c6020d-d635-4959-87c4-00308ad2cc5d",
   "metadata": {},
   "source": [
    "## Multiple input graphs"
   ]
  },
  {
   "cell_type": "code",
   "execution_count": 9,
   "id": "57e2f1f7-9eae-4172-a670-1161e9d56c05",
   "metadata": {},
   "outputs": [],
   "source": [
    "from typing import TypedDict, List\n",
    "from langgraph.graph import StateGraph"
   ]
  },
  {
   "cell_type": "code",
   "execution_count": 10,
   "id": "50d91ed0-351e-4be8-96a6-d8b224c83743",
   "metadata": {},
   "outputs": [],
   "source": [
    "class AgentState(TypedDict):\n",
    "    values : List[int]\n",
    "    name : str\n",
    "    operation : str\n",
    "    result : str"
   ]
  },
  {
   "cell_type": "code",
   "execution_count": 11,
   "id": "311434b0-d73a-463c-be03-474d3f0e3948",
   "metadata": {},
   "outputs": [],
   "source": [
    "def process_values(state: AgentState) -> AgentState:\n",
    "    if state['operation'] == \"+\" : \n",
    "        state['result'] = f\"Hi {state['name']}! Your answer is {sum(state['values'])}\"\n",
    "    elif state['operation'] == \"*\": \n",
    "        product = 1\n",
    "        for x in state['values']:\n",
    "            product *= x\n",
    "        state['result'] = f\"Hi {state['name']}! Your answer is {product}\"\n",
    "\n",
    "    return state"
   ]
  },
  {
   "cell_type": "code",
   "execution_count": 12,
   "id": "ae8a4784-d9cd-47a9-a201-7354e89b849e",
   "metadata": {},
   "outputs": [],
   "source": [
    "graph = StateGraph(AgentState)\n",
    "graph.add_node(\"process_values\", process_values)\n",
    "\n",
    "graph.set_entry_point(\"process_values\")\n",
    "graph.set_finish_point(\"process_values\")\n",
    "\n",
    "app = graph.compile()"
   ]
  },
  {
   "cell_type": "code",
   "execution_count": 13,
   "id": "290a45ad-5e83-4be2-b6bb-869e475b21c8",
   "metadata": {},
   "outputs": [
    {
     "data": {
      "image/png": "[encoded data removed]",
      "text/plain": [
       "<IPython.core.display.Image object>"
      ]
     },
     "metadata": {},
     "output_type": "display_data"
    }
   ],
   "source": [
    "display(Image(app.get_graph().draw_mermaid_png()))"
   ]
  },
  {
   "cell_type": "code",
   "execution_count": 14,
   "id": "ba9374b5-4a35-4d12-b24c-0c2ec8884830",
   "metadata": {},
   "outputs": [
    {
     "name": "stdout",
     "output_type": "stream",
     "text": [
      "Hi rivindu! Your answer is 120\n"
     ]
    }
   ],
   "source": [
    "result = app.invoke({\"name\" : \"rivindu\", \"values\" : [1,2,3,4,5], \"operation\" : \"*\"})\n",
    "print(result['result'])"
   ]
  },
  {
   "cell_type": "markdown",
   "id": "ce673f2c-335a-4869-bbf3-6638dd147979",
   "metadata": {},
   "source": [
    "## Graph 3"
   ]
  },
  {
   "cell_type": "code",
   "execution_count": 15,
   "id": "da7b11b9-798b-46d4-9a93-37f79e571874",
   "metadata": {},
   "outputs": [
    {
     "data": {
      "image/png": "[encoded data removed]",
      "text/plain": [
       "<IPython.core.display.Image object>"
      ]
     },
     "metadata": {},
     "output_type": "display_data"
    }
   ],
   "source": [
    "from typing import TypedDict\n",
    "from langgraph.graph import StateGraph\n",
    "\n",
    "class AgentState(TypedDict):\n",
    "    name : str\n",
    "    age : int\n",
    "    result : str\n",
    "    skills : List[str]\n",
    "\n",
    "def first_node(state: AgentState) -> AgentState:\n",
    "    state['result'] = f\"Hy there {state['name']}\"\n",
    "    return state\n",
    "\n",
    "def second_node(state: AgentState) -> AgentState:\n",
    "    state['result'] = f\"{state['result']} you are {state['age']} years old\"\n",
    "    return state\n",
    "\n",
    "def third_node(state: AgentState) -> AgentState:\n",
    "    state['result'] =  state['result'] + f' your skills are '\n",
    "    for skill in state['skills']:\n",
    "        if skill == state['skills'][-1]:\n",
    "            state['result'] += \" and \" + skill\n",
    "        elif skill == state['skills'][-2]:\n",
    "            state['result'] +=   skill \n",
    "        else:\n",
    "            state['result'] +=   skill + \", \"\n",
    "        \n",
    "    return state\n",
    "    \n",
    "graph = StateGraph(AgentState)\n",
    "graph.add_node('first_node', first_node)\n",
    "graph.add_node('second_node', second_node)\n",
    "graph.add_node('third_node', third_node)\n",
    "graph.add_edge('first_node', 'second_node')\n",
    "graph.add_edge('second_node', 'third_node')\n",
    "graph.set_entry_point(\"first_node\")\n",
    "graph.set_finish_point(\"second_node\")\n",
    "\n",
    "app = graph.compile()\n",
    "\n",
    "display(Image(app.get_graph().draw_mermaid_png()))"
   ]
  },
  {
   "cell_type": "code",
   "execution_count": 16,
   "id": "ccc4c19e-5475-4d92-9ae8-3f8e035a4084",
   "metadata": {},
   "outputs": [
    {
     "name": "stdout",
     "output_type": "stream",
     "text": [
      "Hy there rivindu you are 18 years old your skills are Python, Machine Learning, LangGraph and data science\n"
     ]
    }
   ],
   "source": [
    "result = app.invoke({\"name\" : \"rivindu\", \"age\": 18, \"skills\" : ['Python', 'Machine Learning', 'LangGraph', 'data science']})\n",
    "print(result['result'])"
   ]
  },
  {
   "cell_type": "markdown",
   "id": "e55072ca-1d9c-4e8c-ae20-090f37db65d1",
   "metadata": {},
   "source": [
    "## Graph 4"
   ]
  },
  {
   "cell_type": "markdown",
   "id": "f9711be8-c333-4ae4-a874-637cf45a93ac",
   "metadata": {},
   "source": [
    "#### Conditional Graphs"
   ]
  },
  {
   "cell_type": "code",
   "execution_count": 17,
   "id": "f3c4646d-7d87-413f-bb7b-b6ffccca4cbf",
   "metadata": {},
   "outputs": [],
   "source": [
    "from typing import TypedDict\n",
    "from langgraph.graph import StateGraph, START, END"
   ]
  },
  {
   "cell_type": "code",
   "execution_count": 18,
   "id": "22145cec-f661-4653-9ae8-ef3e4277823d",
   "metadata": {},
   "outputs": [],
   "source": [
    "class AgentState(TypedDict):\n",
    "    first_number : int\n",
    "    second_number : int\n",
    "    operation : str\n",
    "    third_number : int\n",
    "    forth_number : int\n",
    "    operation2 : str\n",
    "    final1 : int\n",
    "    final2 : int\n",
    "\n",
    "def adder(state: AgentState) -> AgentState:\n",
    "    \"\"\"This node adds two numbers\"\"\"\n",
    "    state['final1'] = state['first_number'] + state['second_number']\n",
    "    return state\n",
    "\n",
    "def subtracter(state: AgentState) -> AgentState:\n",
    "    \"\"\"This node subtracts two numbers\"\"\"\n",
    "    state['final1']  = state['first_number'] - state['second_number']\n",
    "    return state\n",
    "\n",
    "def adder2(state: AgentState) -> AgentState:\n",
    "    \"\"\"This node subtracts two numbers\"\"\"\n",
    "    state['final2']  = state['third_number'] + state['forth_number']\n",
    "    return state\n",
    "\n",
    "\n",
    "def subtracter2(state: AgentState) -> AgentState:\n",
    "    \"\"\"This node subtracts two numbers\"\"\"\n",
    "    state['final2']  = state['third_number'] - state['forth_number']\n",
    "    return state\n",
    "\n",
    "def decide_next_node2(state: AgentState) -> AgentState:\n",
    "    \"\"\"this function decides what node comes next\"\"\"\n",
    "    if state['operation'] == \"+\": \n",
    "        return \"addition_operation_2\"\n",
    "    elif state['operation'] == \"-\":\n",
    "        return \"subtraction_operation2\"\n",
    "    \n",
    "def decide_next_node(state: AgentState) -> AgentState:\n",
    "    \"\"\"This nodes decided which node comes next\"\"\"\n",
    "    if state['operation'] == \"+\":\n",
    "        return \"addition_operation\"\n",
    "    elif state['operation'] == \"-\":\n",
    "        return \"subtraction_operation\"\n",
    "    "
   ]
  },
  {
   "cell_type": "code",
   "execution_count": 19,
   "id": "6be69366-254a-4f71-b7a2-66bf868424d7",
   "metadata": {},
   "outputs": [
    {
     "data": {
      "image/png": "[encoded data removed]",
      "text/plain": [
       "<IPython.core.display.Image object>"
      ]
     },
     "metadata": {},
     "output_type": "display_data"
    }
   ],
   "source": [
    "graph = StateGraph(AgentState)\n",
    "graph.add_node(\"adder\", adder)\n",
    "graph.add_node(\"subtracter\", subtracter)\n",
    "graph.add_node(\"router\", lambda state:state) # Passtrough function \n",
    "\n",
    "graph.add_edge(START, \"router\")\n",
    "graph.add_conditional_edges( \n",
    "    \"router\", \n",
    "    decide_next_node,  # function's output maps to fullowing code\n",
    "    {\n",
    "        \"addition_operation\" : \"adder\", \n",
    "        \"subtraction_operation\" : \"subtracter\"\n",
    "    }\n",
    ")\n",
    "\n",
    "\n",
    "graph.add_node(\"router2\", lambda state: state)\n",
    "graph.add_edge(\"adder\", \"router2\")\n",
    "graph.add_edge(\"subtracter\", \"router2\")\n",
    "\n",
    "graph.add_node(\"adder2\", adder2)\n",
    "graph.add_node(\"subtracter2\", subtracter2)\n",
    "\n",
    "\n",
    "\n",
    "graph.add_conditional_edges(\n",
    "    \"router2\", \n",
    "    decide_next_node2, \n",
    "    {\n",
    "        \"addition_operation2\" : \"adder2\",\n",
    "        \"subtraction_operation2\" : \"subtracter2\"\n",
    "    }\n",
    ")\n",
    "app = graph.compile()\n",
    "display(Image(app.get_graph().draw_mermaid_png()))\n"
   ]
  },
  {
   "cell_type": "code",
   "execution_count": 20,
   "id": "abd868a4-0a91-45bf-951b-210ab976b407",
   "metadata": {},
   "outputs": [
    {
     "name": "stdout",
     "output_type": "stream",
     "text": [
      "2\n",
      "0\n"
     ]
    }
   ],
   "source": [
    "result = app.invoke({\"first_number\" : 4, \"second_number\" : 2, \"operation\" : \"-\", \"third_number\" : 5, \"forth_number\" : 5, \"operation2\" : \"-\"})\n",
    "print(result['final1'])\n",
    "print(result['final2'])"
   ]
  },
  {
   "cell_type": "markdown",
   "id": "33fa75f3-8c4d-4947-a0fb-5b6e78fb2543",
   "metadata": {},
   "source": [
    "## Graph 5 - Looping Graphs"
   ]
  },
  {
   "cell_type": "code",
   "execution_count": 27,
   "id": "f4e0189a-7da7-45b3-b0b6-045afaac5c6c",
   "metadata": {},
   "outputs": [],
   "source": [
    "from langgraph.graph import StateGraph, START, END\n",
    "from typing import TypedDict, Dict, List\n",
    "import random "
   ]
  },
  {
   "cell_type": "code",
   "execution_count": 28,
   "id": "bf8546d4",
   "metadata": {},
   "outputs": [],
   "source": [
    "class AgentState(TypedDict): \n",
    "    name : str\n",
    "    number : List[int]\n",
    "    counter : int\n",
    "    "
   ]
  },
  {
   "cell_type": "code",
   "execution_count": 38,
   "id": "a99f4f95-cf60-459b-a19e-058654f278d6",
   "metadata": {},
   "outputs": [],
   "source": [
    "def greet(state: AgentState) -> AgentState:\n",
    "    state['name'] = f\"Hii there, {state['name']} \"\n",
    "    state['counter'] = 0\n",
    "\n",
    "    return state\n",
    "\n",
    "def random_number(state: AgentState) -> AgentState:\n",
    "    state['number'].append(random.randint(0,10))\n",
    "    state['counter'] += 1\n",
    "\n",
    "    return state\n",
    "\n",
    "def should_continue(state: AgentState) -> AgentState:\n",
    "    \"\"\"Weather to continue the loop or not\"\"\"\n",
    "    if state['counter'] < 5:\n",
    "        return \"loop\"\n",
    "    else :\n",
    "        return \"exit\"\n",
    "\n",
    "\n"
   ]
  },
  {
   "cell_type": "code",
   "execution_count": 39,
   "id": "ff348a85-ca72-4fff-928b-af0c943da2f2",
   "metadata": {},
   "outputs": [],
   "source": [
    "graph = StateGraph(AgentState)\n",
    "graph.add_node(\"greeting\", greet)\n",
    "graph.add_node(\"random\", random_number)\n",
    "graph.add_edge(\"greeting\", \"random\")\n",
    "\n",
    "graph.add_conditional_edges(\n",
    "    \"random\", \n",
    "    should_continue, \n",
    "    {\n",
    "        \"loop\" : \"random\", \n",
    "        \"exit\" : END\n",
    "    }\n",
    ")\n",
    "\n",
    "graph.set_entry_point(\"greeting\")\n",
    "app = graph.compile()\n",
    "\n",
    "\n"
   ]
  },
  {
   "cell_type": "code",
   "execution_count": 40,
   "id": "52910162-214c-4d1b-bb28-8f3462e4b3a7",
   "metadata": {},
   "outputs": [
    {
     "data": {
      "image/png": "[encoded data removed]",
      "text/plain": [
       "<IPython.core.display.Image object>"
      ]
     },
     "metadata": {},
     "output_type": "display_data"
    }
   ],
   "source": [
    "display(Image(app.get_graph().draw_mermaid_png()))"
   ]
  },
  {
   "cell_type": "code",
   "execution_count": 41,
   "id": "4f2c62b7-ca65-4914-bd71-d7e4a0d6b9f2",
   "metadata": {},
   "outputs": [
    {
     "data": {
      "text/plain": [
       "{'name': 'Hii there, rivindu ', 'number': [7, 10, 5, 0, 10], 'counter': 5}"
      ]
     },
     "execution_count": 41,
     "metadata": {},
     "output_type": "execute_result"
    }
   ],
   "source": [
    "app.invoke({\"name\" : \"rivindu\", \"number\" : [], \"counter\" : -1})"
   ]
  },
  {
   "cell_type": "markdown",
   "id": "78b45cdb-f860-4758-bcaf-5137be2cf587",
   "metadata": {},
   "source": [
    "### Exercise for graph 5 (Number guessing game)"
   ]
  },
  {
   "cell_type": "code",
   "execution_count": 79,
   "id": "ab775bd3-de1e-4267-b028-a5fe3fb5677e",
   "metadata": {},
   "outputs": [],
   "source": [
    "from langgraph.graph import StateGraph, END\n",
    "from typing import TypedDict, List\n",
    "import random \n",
    "\n",
    "class AgentState(TypedDict): \n",
    "    player_name : str\n",
    "    guesses : List[int]\n",
    "    attempts : int\n",
    "    lower_bound : int\n",
    "    upper_bound : int\n",
    "    hidden_num : int\n",
    "    guess : int\n",
    "\n",
    "def setup(state: AgentState) -> AgentState:\n",
    "    \"\"\"Function to greet the player \"\"\"\n",
    "    state['player_name'] =  f\"Hi {state['player_name']}, welcome to the guessing game!\"\n",
    "    state['hidden_num'] = random.randint(state['lower_bound'], state['upper_bound'])\n",
    "    state['attempts'] = 0\n",
    "    state.setdefault('guesses', [])\n",
    "    return state\n",
    "    \n",
    "def guess(state: AgentState) -> AgentState:\n",
    "    \"\"\"Code itself guesses the number\"\"\"\n",
    "    state['guess'] = random.randint(state['lower_bound'], state['upper_bound'])\n",
    "    state['guesses'].append(state['guess'])\n",
    "    state['attempts'] += 1\n",
    "    return state\n",
    "\n",
    "def hint(state: AgentState) -> AgentState:\n",
    "    \"\"\"Gives a hint about the hidden number\"\"\"\n",
    "    if state['guess'] > state['hidden_num']: \n",
    "        state['upper_bound'] = state['guess'] - 1\n",
    "    else: \n",
    "        state['lower_bound'] = state['guess'] + 1\n",
    "    return state\n",
    "\n",
    "def should_loop(state: AgentState) -> str:\n",
    "    \"\"\"Function to see if loops again or not\"\"\"\n",
    "    return \"exit\" if state['guess'] == state['hidden_num'] else \"hint\"\n"
   ]
  },
  {
   "cell_type": "code",
   "execution_count": 80,
   "id": "6d708b3d-5d99-416a-9262-fb5abf5fa3f8",
   "metadata": {},
   "outputs": [],
   "source": [
    "graph = StateGraph(AgentState)\n",
    "graph.add_node(\"setup\", setup)\n",
    "graph.add_node(\"guess_num\", guess)\n",
    "graph.add_node(\"hint_node\", hint)\n",
    "\n",
    "graph.set_entry_point(\"setup\")\n",
    "graph.add_edge(\"setup\", \"guess_num\")\n",
    "\n",
    "graph.add_conditional_edges(\n",
    "    \"guess_num\", \n",
    "    should_loop, \n",
    "    {\n",
    "        \"exit\" : END,\n",
    "        \"hint\" : \"hint_node\"\n",
    "    }\n",
    ")\n",
    "\n",
    "graph.add_edge(\"hint_node\", \"guess_num\")\n",
    "app = graph.compile()\n"
   ]
  },
  {
   "cell_type": "code",
   "execution_count": 81,
   "id": "a335985e-ae52-43b0-8b53-10e324422129",
   "metadata": {},
   "outputs": [
    {
     "data": {
      "image/png": "[encoded data removed]",
      "text/plain": [
       "<IPython.core.display.Image object>"
      ]
     },
     "metadata": {},
     "output_type": "display_data"
    }
   ],
   "source": [
    "display(Image(app.get_graph().draw_mermaid_png()))"
   ]
  },
  {
   "cell_type": "code",
   "execution_count": 83,
   "id": "32b82150-2132-4b45-9b82-aabfc24c209b",
   "metadata": {},
   "outputs": [
    {
     "data": {
      "text/plain": [
       "{'player_name': 'Hi rivindu, welcome to the guessing game!',\n",
       " 'guesses': [4, 2, 3],\n",
       " 'attempts': 3,\n",
       " 'lower_bound': 3,\n",
       " 'upper_bound': 3,\n",
       " 'hidden_num': 3,\n",
       " 'guess': 3}"
      ]
     },
     "execution_count": 83,
     "metadata": {},
     "output_type": "execute_result"
    }
   ],
   "source": [
    "app.invoke({\"player_name\" : \"rivindu\", \"upper_bound\" : 10, \"lower_bound\" : 0})"
   ]
  },
  {
   "cell_type": "code",
   "execution_count": null,
   "id": "883a7e55-ed06-458c-8b90-c893f07ab9b0",
   "metadata": {},
   "outputs": [],
   "source": []
  }
 ],
 "metadata": {
  "kernelspec": {
   "display_name": "Python 3 (ipykernel)",
   "language": "python",
   "name": "python3"
  },
  "language_info": {
   "codemirror_mode": {
    "name": "ipython",
    "version": 3
   },
   "file_extension": ".py",
   "mimetype": "text/x-python",
   "name": "python",
   "nbconvert_exporter": "python",
   "pygments_lexer": "ipython3",
   "version": "3.12.2"
  }
 },
 "nbformat": 4,
 "nbformat_minor": 5
}
